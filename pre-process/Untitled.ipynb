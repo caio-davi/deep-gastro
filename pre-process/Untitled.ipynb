{
 "cells": [
  {
   "cell_type": "code",
   "execution_count": 18,
   "metadata": {},
   "outputs": [],
   "source": [
    "import os\n",
    "from skimage import data\n",
    "from skimage.io import imsave, imread, imshow\n",
    "from skimage.color import rgba2rgb, rgb2grey\n",
    "from skimage import filters\n",
    "import matplotlib.pyplot as plt\n",
    "import numpy as np"
   ]
  },
  {
   "cell_type": "code",
   "execution_count": 38,
   "metadata": {},
   "outputs": [],
   "source": [
    "\n",
    "ORIGINAL = \"./originals/100x100_1.png\"\n",
    "TRAIN_PATH = \"./p20/train/\"\n",
    "TEST_PATH = \"./p20/test/\"\n",
    "\n",
    "SAMPLE_IMAGE = \"./p20/train/images/0.png\"\n",
    "SAMPLE_LABEL = \"./p20/train/labels/0.png\"\n",
    "SAMPLE_ANOTATION = \"./p20/train/anotations/0.png\"\n",
    "SAMPLE_TEST = \"./sample_test.png\"\n"
   ]
  },
  {
   "cell_type": "code",
   "execution_count": 39,
   "metadata": {},
   "outputs": [],
   "source": [
    "\n",
    "def split_image(image_path, save_path, splited_dimensions):\n",
    "    image = imread(image_path)\n",
    "    nrows, ncols, nchanls = image.shape\n",
    "    M, N = splited_dimensions\n",
    "    tiles = [image[x:x+M, y:y+N]\n",
    "             for x in range(0, image.shape[0], M) for y in range(0, image.shape[1], N)]\n",
    "    for i in range(64):\n",
    "        imsave(save_path+str(i)+\".png\", tiles[i])\n",
    "\n"
   ]
  },
  {
   "cell_type": "code",
   "execution_count": 72,
   "metadata": {},
   "outputs": [],
   "source": [
    "def invert(image):\n",
    "    newImg = 255 * (image[:, :] == 0) + (0 * (image[:,:]==255))\n",
    "    return newImg\n",
    "\n",
    "def anotation2label(image_name, image_path, label_path):\n",
    "    image = imread(image_path+image_name)\n",
    "    image = invert(255 * (image[:, :, 1] > 0))\n",
    "    imsave(label_path+image_name, image)\n",
    "    \n",
    "def createLabels(anotation_path, label_path):\n",
    "    a = os.listdir(anotation_path)\n",
    "    for img in a:\n",
    "        anotation2label(img, anotation_path, label_path)"
   ]
  },
  {
   "cell_type": "code",
   "execution_count": 47,
   "metadata": {},
   "outputs": [],
   "source": [
    "def img2BW(image_name, image_path, new_image_path):\n",
    "    image = imread(image_path+image_name)\n",
    "    image = image[:, :, 2]\n",
    "    imsave(new_image_path+image_name, image)\n",
    "\n",
    "def createBWImages(image_path, new_image_path):\n",
    "    a = os.listdir(image_path)\n",
    "    for img in a:\n",
    "        img2BW(img, image_path, new_image_path)"
   ]
  },
  {
   "cell_type": "code",
   "execution_count": 50,
   "metadata": {},
   "outputs": [],
   "source": [
    "def img2Label(image_path):\n",
    "    image = imread(image_path)\n",
    "    image = image[:, :, 2]\n",
    "    image = filters.sobel(image)\n",
    "    image = 255 * (image[:, :] < 0.12)\n",
    "    imsave(TRAIN_PATH+\"sample_test.png\", image)"
   ]
  },
  {
   "cell_type": "code",
   "execution_count": 51,
   "metadata": {},
   "outputs": [
    {
     "name": "stderr",
     "output_type": "stream",
     "text": [
      "/home/caio/Apps/miniconda3/envs/unet/lib/python3.5/site-packages/skimage/io/_io.py:140: UserWarning: ./p20/train/bwImages/19.png is a low contrast image\n",
      "  warn('%s is a low contrast image' % fname)\n",
      "/home/caio/Apps/miniconda3/envs/unet/lib/python3.5/site-packages/skimage/io/_io.py:140: UserWarning: ./p20/train/bwImages/9.png is a low contrast image\n",
      "  warn('%s is a low contrast image' % fname)\n"
     ]
    }
   ],
   "source": [
    "createBWImages(TRAIN_PATH+\"images/\", TRAIN_PATH+\"bwImages/\")"
   ]
  },
  {
   "cell_type": "code",
   "execution_count": 71,
   "metadata": {},
   "outputs": [
    {
     "name": "stdout",
     "output_type": "stream",
     "text": [
      "[[255 255 255 ... 255 255 255]\n",
      " [255 255 255 ... 255 255 255]\n",
      " [255 255 255 ... 255 255 255]\n",
      " ...\n",
      " [255 255 255 ... 255 255 255]\n",
      " [255 255 255 ... 255 255 255]\n",
      " [255 255 255 ... 255 255 255]]\n"
     ]
    },
    {
     "data": {
      "image/png": "[encoded data removed]",
      "text/plain": [
       "<Figure size 432x288 with 1 Axes>"
      ]
     },
     "metadata": {
      "needs_background": "light"
     },
     "output_type": "display_data"
    }
   ],
   "source": [
    "createLabels(TRAIN_PATH+\"\")"
   ]
  },
  {
   "cell_type": "code",
   "execution_count": null,
   "metadata": {},
   "outputs": [],
   "source": []
  }
 ],
 "metadata": {
  "kernelspec": {
   "display_name": "Python 3",
   "language": "python",
   "name": "python3"
  },
  "language_info": {
   "codemirror_mode": {
    "name": "ipython",
    "version": 3
   },
   "file_extension": ".py",
   "mimetype": "text/x-python",
   "name": "python",
   "nbconvert_exporter": "python",
   "pygments_lexer": "ipython3",
   "version": "3.5.6"
  }
 },
 "nbformat": 4,
 "nbformat_minor": 4
}
