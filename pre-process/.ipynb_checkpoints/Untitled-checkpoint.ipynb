{
 "cells": [
  {
   "cell_type": "code",
   "execution_count": 45,
   "metadata": {},
   "outputs": [],
   "source": [
    "import os\n",
    "from skimage import data\n",
    "from skimage.io import imsave, imread, imshow\n",
    "from skimage import filters\n",
    "import matplotlib.pyplot as plt\n",
    "import numpy as np"
   ]
  },
  {
   "cell_type": "code",
   "execution_count": 46,
   "metadata": {},
   "outputs": [],
   "source": [
    "\n",
    "ORIGINAL = \"./originals/100x100_1.png\"\n",
    "TRAIN_PATH = \"./p20/train/\"\n",
    "TEST_PATH = \"./p20/test/\"\n",
    "\n",
    "SAMPLE_IMAGE = \"./p20/train/images/0.png\"\n",
    "SAMPLE_LABEL = \"./p20/train/labels/0.png\"\n",
    "SAMPLE_ANOTATION = \"./p20/train/anotations/0.png\"\n",
    "SAMPLE_TEST = \"./SAMPLE.png\"\n"
   ]
  },
  {
   "cell_type": "code",
   "execution_count": 47,
   "metadata": {},
   "outputs": [],
   "source": [
    "\n",
    "def split_image(image_path, save_path, splited_dimensions):\n",
    "    image = imread(image_path)\n",
    "    nrows, ncols, nchanls = image.shape\n",
    "    M, N = splited_dimensions\n",
    "    tiles = [image[x:x+M, y:y+N]\n",
    "             for x in range(0, image.shape[0], M) for y in range(0, image.shape[1], N)]\n",
    "    for i in range(64):\n",
    "        imsave(save_path+str(i)+\".png\", tiles[i])\n",
    "\n"
   ]
  },
  {
   "cell_type": "code",
   "execution_count": 48,
   "metadata": {},
   "outputs": [],
   "source": [
    "def saveBW(image_name, image_path, label_path):\n",
    "    label = imread(image_path+image_name)\n",
    "    label = 255 * (label[:, :, 1] > 0)\n",
    "    imsave(label_path+image_name, label)"
   ]
  },
  {
   "cell_type": "code",
   "execution_count": 49,
   "metadata": {},
   "outputs": [],
   "source": [
    "def createLabels(anotation_path, label_path):\n",
    "    a = os.listdir(anotation_path)\n",
    "    for img in a:\n",
    "        saveBW(img, anotation_path, label_path)"
   ]
  },
  {
   "cell_type": "code",
   "execution_count": 116,
   "metadata": {},
   "outputs": [],
   "source": [
    "def filter(image_path):\n",
    "    image = imread(image_path)\n",
    "    print(image.shape)\n",
    "#     from skimage.color import rgba2rgb\n",
    "#     image = rgba2rgb(image)\n",
    "\n",
    "    # image[:, :, 2] = 0 * (image[:, :, 2])\n",
    "    image = image[:, :, 2]\n",
    "    image = filters.sobel(image)\n",
    "    \n",
    "    print(image.shape)\n",
    "    image = 0 * (image[:, :] < 0.001)\n",
    "    print(image)\n",
    "\n",
    "    # image = np.invert(image)\n",
    "    # image = filters.inverse(image)\n",
    "\n",
    "    plt.imshow(image, cmap='gray')\n",
    "    plt.show()"
   ]
  },
  {
   "cell_type": "code",
   "execution_count": 117,
   "metadata": {},
   "outputs": [
    {
     "name": "stdout",
     "output_type": "stream",
     "text": [
      "(512, 512, 4)\n",
      "(512, 512)\n",
      "[[0 0 0 ... 0 0 0]\n",
      " [0 0 0 ... 0 0 0]\n",
      " [0 0 0 ... 0 0 0]\n",
      " ...\n",
      " [0 0 0 ... 0 0 0]\n",
      " [0 0 0 ... 0 0 0]\n",
      " [0 0 0 ... 0 0 0]]\n"
     ]
    },
    {
     "data": {
      "image/png": "[encoded data removed]",
      "text/plain": [
       "<Figure size 432x288 with 1 Axes>"
      ]
     },
     "metadata": {
      "needs_background": "light"
     },
     "output_type": "display_data"
    }
   ],
   "source": [
    "# filter(SAMPLE_TEST)\n",
    "filter(SAMPLE_IMAGE)"
   ]
  },
  {
   "cell_type": "code",
   "execution_count": 98,
   "metadata": {},
   "outputs": [
    {
     "data": {
      "text/plain": [
       "'./SAMPLE.png'"
      ]
     },
     "execution_count": 98,
     "metadata": {},
     "output_type": "execute_result"
    }
   ],
   "source": [
    "SAMPLE_TEST\n",
    "\""
   ]
  },
  {
   "cell_type": "code",
   "execution_count": 100,
   "metadata": {},
   "outputs": [],
   "source": [
    "image = imread(SAMPLE_TEST)"
   ]
  },
  {
   "cell_type": "code",
   "execution_count": 102,
   "metadata": {},
   "outputs": [
    {
     "data": {
      "text/plain": [
       "array([[  2,   2,   3,   4,   4,   4,   3,   2],\n",
       "       [255, 255, 255, 255, 255, 255, 255, 255],\n",
       "       [  0,   0,   0,   1,   0,   3,   0,   0],\n",
       "       [255, 255, 255, 255, 255, 255, 255, 255],\n",
       "       [255, 255, 255, 255, 255, 255, 255, 255],\n",
       "       [255, 255, 255, 255, 255, 255, 255, 255],\n",
       "       [  4,   3, 197,   1,   0, 255, 255, 255],\n",
       "       [  2,   2, 197,   1,   2, 255, 255, 255]], dtype=uint8)"
      ]
     },
     "execution_count": 102,
     "metadata": {},
     "output_type": "execute_result"
    }
   ],
   "source": [
    "image = image[:, :, 2]\n",
    "image"
   ]
  },
  {
   "cell_type": "code",
   "execution_count": 113,
   "metadata": {},
   "outputs": [
    {
     "data": {
      "text/plain": [
       "array([[0, 0, 0, 0, 0, 0, 0, 0],\n",
       "       [0, 0, 0, 0, 0, 0, 0, 0],\n",
       "       [1, 1, 1, 1, 1, 0, 1, 1],\n",
       "       [0, 0, 0, 0, 0, 0, 0, 0],\n",
       "       [0, 0, 0, 0, 0, 0, 0, 0],\n",
       "       [0, 0, 0, 0, 0, 0, 0, 0],\n",
       "       [0, 0, 0, 1, 1, 0, 0, 0],\n",
       "       [0, 0, 0, 1, 0, 0, 0, 0]])"
      ]
     },
     "execution_count": 113,
     "metadata": {},
     "output_type": "execute_result"
    }
   ],
   "source": [
    "new = 1 * (image[:,:]<2)\n",
    "new"
   ]
  },
  {
   "cell_type": "code",
   "execution_count": null,
   "metadata": {},
   "outputs": [],
   "source": []
  }
 ],
 "metadata": {
  "kernelspec": {
   "display_name": "Python 3",
   "language": "python",
   "name": "python3"
  },
  "language_info": {
   "codemirror_mode": {
    "name": "ipython",
    "version": 3
   },
   "file_extension": ".py",
   "mimetype": "text/x-python",
   "name": "python",
   "nbconvert_exporter": "python",
   "pygments_lexer": "ipython3",
   "version": "3.5.6"
  }
 },
 "nbformat": 4,
 "nbformat_minor": 4
}
